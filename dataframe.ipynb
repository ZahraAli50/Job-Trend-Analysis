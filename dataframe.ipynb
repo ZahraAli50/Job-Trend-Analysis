{
 "cells": [
  {
   "cell_type": "code",
   "execution_count": 1,
   "id": "fd90a0f0",
   "metadata": {},
   "outputs": [],
   "source": [
    "import pandas as pd"
   ]
  },
  {
   "cell_type": "code",
   "execution_count": 2,
   "id": "203349af",
   "metadata": {},
   "outputs": [
    {
     "data": {
      "text/html": [
       "<div>\n",
       "<style scoped>\n",
       "    .dataframe tbody tr th:only-of-type {\n",
       "        vertical-align: middle;\n",
       "    }\n",
       "\n",
       "    .dataframe tbody tr th {\n",
       "        vertical-align: top;\n",
       "    }\n",
       "\n",
       "    .dataframe thead th {\n",
       "        text-align: right;\n",
       "    }\n",
       "</style>\n",
       "<table border=\"1\" class=\"dataframe\">\n",
       "  <thead>\n",
       "    <tr style=\"text-align: right;\">\n",
       "      <th></th>\n",
       "      <th>title</th>\n",
       "      <th>company_name</th>\n",
       "      <th>location</th>\n",
       "      <th>description</th>\n",
       "      <th>skills</th>\n",
       "    </tr>\n",
       "  </thead>\n",
       "  <tbody>\n",
       "    <tr>\n",
       "      <th>0</th>\n",
       "      <td>Protection and Controls Engineer</td>\n",
       "      <td>AECOM</td>\n",
       "      <td>New York, NY</td>\n",
       "      <td>Company Description\\n\\nWork with Us. Change th...</td>\n",
       "      <td>['excel', 'git']</td>\n",
       "    </tr>\n",
       "    <tr>\n",
       "      <th>1</th>\n",
       "      <td>Software Engineer, Global Banking &amp; Markets, G...</td>\n",
       "      <td>Goldman Sachs, Inc.</td>\n",
       "      <td>New York, NY</td>\n",
       "      <td>Software Engineer, Global Banking &amp; Markets, G...</td>\n",
       "      <td>['python', 'machine learning', 'communication'...</td>\n",
       "    </tr>\n",
       "    <tr>\n",
       "      <th>2</th>\n",
       "      <td>Reliability Engineer</td>\n",
       "      <td>Cushman &amp; Wakefield</td>\n",
       "      <td>Staten Island, NY</td>\n",
       "      <td>Job Title\\nReliability EngineerJob Description...</td>\n",
       "      <td>['excel', 'communication', 'data analysis']</td>\n",
       "    </tr>\n",
       "    <tr>\n",
       "      <th>3</th>\n",
       "      <td>Electrical Engineering Specialist I</td>\n",
       "      <td>Burns Engineering, Inc.</td>\n",
       "      <td>New York, NY</td>\n",
       "      <td>About Burns:\\n\\nBurns Engineering provides pro...</td>\n",
       "      <td>[]</td>\n",
       "    </tr>\n",
       "    <tr>\n",
       "      <th>4</th>\n",
       "      <td>Senior Software Engineer – Network Reliability...</td>\n",
       "      <td>The Trade Desk</td>\n",
       "      <td>New York, NY (+1 other)</td>\n",
       "      <td>The Trade Desk is a global technology company ...</td>\n",
       "      <td>['communication', 'aws', 'docker']</td>\n",
       "    </tr>\n",
       "  </tbody>\n",
       "</table>\n",
       "</div>"
      ],
      "text/plain": [
       "                                               title             company_name  \\\n",
       "0                   Protection and Controls Engineer                    AECOM   \n",
       "1  Software Engineer, Global Banking & Markets, G...      Goldman Sachs, Inc.   \n",
       "2                               Reliability Engineer      Cushman & Wakefield   \n",
       "3                Electrical Engineering Specialist I  Burns Engineering, Inc.   \n",
       "4  Senior Software Engineer – Network Reliability...           The Trade Desk   \n",
       "\n",
       "                  location                                        description  \\\n",
       "0             New York, NY  Company Description\\n\\nWork with Us. Change th...   \n",
       "1             New York, NY  Software Engineer, Global Banking & Markets, G...   \n",
       "2        Staten Island, NY  Job Title\\nReliability EngineerJob Description...   \n",
       "3             New York, NY  About Burns:\\n\\nBurns Engineering provides pro...   \n",
       "4  New York, NY (+1 other)  The Trade Desk is a global technology company ...   \n",
       "\n",
       "                                              skills  \n",
       "0                                   ['excel', 'git']  \n",
       "1  ['python', 'machine learning', 'communication'...  \n",
       "2        ['excel', 'communication', 'data analysis']  \n",
       "3                                                 []  \n",
       "4                 ['communication', 'aws', 'docker']  "
      ]
     },
     "execution_count": 2,
     "metadata": {},
     "output_type": "execute_result"
    }
   ],
   "source": [
    "df=pd.read_csv('data/jobs_cleaned.csv')\n",
    "df.head()"
   ]
  },
  {
   "cell_type": "code",
   "execution_count": null,
   "id": "5da32071",
   "metadata": {},
   "outputs": [],
   "source": []
  }
 ],
 "metadata": {
  "kernelspec": {
   "display_name": "base",
   "language": "python",
   "name": "python3"
  },
  "language_info": {
   "codemirror_mode": {
    "name": "ipython",
    "version": 3
   },
   "file_extension": ".py",
   "mimetype": "text/x-python",
   "name": "python",
   "nbconvert_exporter": "python",
   "pygments_lexer": "ipython3",
   "version": "3.12.7"
  }
 },
 "nbformat": 4,
 "nbformat_minor": 5
}
